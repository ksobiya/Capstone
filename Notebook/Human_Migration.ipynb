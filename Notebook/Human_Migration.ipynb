{
 "cells": [
  {
   "cell_type": "code",
   "execution_count": null,
   "id": "f81aa100",
   "metadata": {},
   "outputs": [],
   "source": [
    "import numpy as np\n",
    "import pandas as pd\n",
    "import matplotlib.pyplot as plt\n",
    "import seaborn as sns\n",
    "import sqlite3 as sqlite"
   ]
  },
  {
   "cell_type": "code",
   "execution_count": null,
   "id": "8c84b3a5",
   "metadata": {},
   "outputs": [],
   "source": [
    "# reading in excel table 1(immigrant stock) while moving the the header 15 rows up and skipping rows 16-39\n",
    "\n",
    "immigrantstock=pd.read_excel('../data/UN_MigrantStockTotal_2019.xlsx',\n",
    "             sheet_name= 'Table 1',\n",
    "              header=15, skiprows=[i for i in range (16,39)])"
   ]
  },
  {
   "cell_type": "code",
   "execution_count": null,
   "id": "ae2ed90b",
   "metadata": {
    "scrolled": true
   },
   "outputs": [],
   "source": [
    "immigrantstock"
   ]
  },
  {
   "cell_type": "code",
   "execution_count": null,
   "id": "aa38c608",
   "metadata": {
    "scrolled": true
   },
   "outputs": [],
   "source": [
    "# dropping the columns highlighted in blue in the excel sprdsheet(ones i dont want)\n",
    "immigrantstock=immigrantstock.loc[~(immigrantstock['Unnamed: 0']==44)& ~(immigrantstock['Unnamed: 0']==54) & ~(immigrantstock['Unnamed: 0']==60)\n",
    "                   & ~(immigrantstock['Unnamed: 0']==78) & ~(immigrantstock['Unnamed: 0']==79) & ~(immigrantstock['Unnamed: 0']==87)\n",
    "                   & ~(immigrantstock['Unnamed: 0']==106) & ~(immigrantstock['Unnamed: 0']==107) & ~(immigrantstock['Unnamed: 0']==113)\n",
    "                   & ~(immigrantstock['Unnamed: 0']==123) & ~(immigrantstock['Unnamed: 0']==124) & ~(immigrantstock['Unnamed: 0']==132)\n",
    "                   & ~(immigrantstock['Unnamed: 0']==144) & ~(immigrantstock['Unnamed: 0']==145) & ~(immigrantstock['Unnamed: 0']==172)\n",
    "                   & ~(immigrantstock['Unnamed: 0']==181) & ~(immigrantstock['Unnamed: 0']==196) & ~(immigrantstock['Unnamed: 0']==197)\n",
    "                   & ~(immigrantstock['Unnamed: 0']==200) & ~(immigrantstock['Unnamed: 0']==206) & ~(immigrantstock['Unnamed: 0']==214)\n",
    "                   & ~(immigrantstock['Unnamed: 0']==224) & ~(immigrantstock['Unnamed: 0']==225) & ~(immigrantstock['Unnamed: 0']==226)\n",
    "                   & ~(immigrantstock['Unnamed: 0']==237) & ~(immigrantstock['Unnamed: 0']==251) & ~(immigrantstock['Unnamed: 0']==268)\n",
    "                   & ~(immigrantstock['Unnamed: 0']==278)]"
   ]
  },
  {
   "cell_type": "code",
   "execution_count": null,
   "id": "26eaaddd",
   "metadata": {
    "scrolled": true
   },
   "outputs": [],
   "source": [
    "# renaming the columns but toward 2010 i had to put the column in '' because its not a str. so you'll see the first few\n",
    "#columns in green and then it'll be all in ''.\n",
    "\n",
    "img_stk_gndr=immigrantstock.rename(columns = {'Unnamed: 0':'Sort order','Unnamed: 1' : 'Major country, area of destination',\n",
    "                                          'Unnamed: 2' : 'Notes','Unnamed: 3' : 'Code','Unnamed: 4' : 'Type of data',\n",
    "                                          1990 : 'M/F 1990',1995 : 'M/F 1995',2000 : 'M/F 2000',\n",
    "                                         2005:'M/F 2005',2010 : 'M/F 2010',2015 : 'M/F img_stk 2015',2019: 'M/F img_stk 2019',\n",
    "                                          1990.1 : 'M 1990',1995.1 : 'M 1995',2000.1 : 'M 2000',\n",
    "                                         2005.1:'M 2005','2010.1' : 'M 2010','2015.1' : 'M img_stk 2015','2019.1': 'M img_stk 2019',\n",
    "                                         '1990.2' : 'F 1990','1995.2' : 'F 1995','2000.2' : 'F 2000',\n",
    "                                         '2005.2':'F 2005','2010.2' : 'F 2010','2015.2' : 'F img_stk 2015','2019.2': 'F img_stk 2019'})"
   ]
  },
  {
   "cell_type": "code",
   "execution_count": null,
   "id": "4582538a",
   "metadata": {
    "scrolled": true
   },
   "outputs": [],
   "source": [
    "img_stk_gndr"
   ]
  },
  {
   "cell_type": "code",
   "execution_count": null,
   "id": "4bf53387",
   "metadata": {},
   "outputs": [],
   "source": [
    "#keeping what I need from the above table to an new table named img_stk_2yrs (only keeping 2yrs of data)\n",
    "\n",
    "img_stk_2yrs=img_stk_gndr[['Sort order','Major country, area of destination','M/F img_stk 2015', 'M/F img_stk 2019',\n",
    "                           'M img_stk 2015', 'M img_stk 2019','F img_stk 2015', 'F img_stk 2019' ]]"
   ]
  },
  {
   "cell_type": "code",
   "execution_count": null,
   "id": "b3b11715",
   "metadata": {
    "scrolled": true
   },
   "outputs": [],
   "source": [
    "img_stk_2yrs"
   ]
  },
  {
   "cell_type": "code",
   "execution_count": null,
   "id": "07428812",
   "metadata": {},
   "outputs": [],
   "source": [
    "# reading in excel Table 2 (country population table)while moving the the header 15 rows up and skipping rows 16-39\n",
    "country_pop=pd.read_excel('../data/UN_MigrantStockTotal_2019.xlsx',\n",
    "             sheet_name= 'Table 2',\n",
    "              header=15, skiprows=[i for i in range (16,39)])"
   ]
  },
  {
   "cell_type": "code",
   "execution_count": null,
   "id": "31439c67",
   "metadata": {},
   "outputs": [],
   "source": [
    "country_pop"
   ]
  },
  {
   "cell_type": "code",
   "execution_count": null,
   "id": "d65be39a",
   "metadata": {},
   "outputs": [],
   "source": []
  },
  {
   "cell_type": "code",
   "execution_count": null,
   "id": "8d11f436",
   "metadata": {},
   "outputs": [],
   "source": [
    "# dropping the rows highlighted in blue in the excel sprdsheet(ones i dont want)\n",
    "\n",
    "country_pop=country_pop.loc[~(country_pop['Unnamed: 0']==44)& ~(country_pop['Unnamed: 0']==54) & ~(country_pop['Unnamed: 0']==60)\n",
    "                   & ~(country_pop['Unnamed: 0']==78) & ~(country_pop['Unnamed: 0']==79) & ~(country_pop['Unnamed: 0']==87)\n",
    "                   & ~(country_pop['Unnamed: 0']==106) & ~(country_pop['Unnamed: 0']==107) & ~(country_pop['Unnamed: 0']==113)\n",
    "                   & ~(country_pop['Unnamed: 0']==123) & ~(country_pop['Unnamed: 0']==124) & ~(country_pop['Unnamed: 0']==132)\n",
    "                   & ~(country_pop['Unnamed: 0']==144) & ~(country_pop['Unnamed: 0']==145) & ~(country_pop['Unnamed: 0']==172)\n",
    "                   & ~(country_pop['Unnamed: 0']==181) & ~(country_pop['Unnamed: 0']==196) & ~(country_pop['Unnamed: 0']==197)\n",
    "                   & ~(country_pop['Unnamed: 0']==200) & ~(country_pop['Unnamed: 0']==206) & ~(country_pop['Unnamed: 0']==214)\n",
    "                   & ~(country_pop['Unnamed: 0']==224) & ~(country_pop['Unnamed: 0']==225) & ~(country_pop['Unnamed: 0']==226)\n",
    "                   & ~(country_pop['Unnamed: 0']==237) & ~(country_pop['Unnamed: 0']==251) & ~(country_pop['Unnamed: 0']==268)\n",
    "                   & ~(country_pop['Unnamed: 0']==278)]"
   ]
  },
  {
   "cell_type": "code",
   "execution_count": null,
   "id": "301c9fe9",
   "metadata": {},
   "outputs": [],
   "source": [
    "country_pop"
   ]
  },
  {
   "cell_type": "code",
   "execution_count": null,
   "id": "63857209",
   "metadata": {},
   "outputs": [],
   "source": [
    "# renaming the columns but toward 2010 i had to put the column in '' because its not a str. so you'll see the first few\n",
    "#columns in green and then it'll be all in ''.\n",
    "\n",
    "country_pop=country_pop.rename(columns = {'Unnamed: 0':'Sort order','Unnamed: 1' : 'Country',\n",
    "                                          'Unnamed: 2' : 'Notes','Unnamed: 3' : 'Code','Unnamed: 4' : 'Type of data',\n",
    "                                          1990 : 'M/F 1990',1995 : 'M/F 1995',2000 : 'M/F 2000',\n",
    "                                         2005:'M/F 2005',2010 : 'M/F 2010',2015 : 'M/F pop 2015',2019: 'M/F pop 2019',\n",
    "                                          1990.1 : 'M 1990',1995.1 : 'M 1995',2000.1 : 'M 2000',\n",
    "                                         2005.1:'M 2005','2010.1' : 'M 2010','2015.1' : 'M pop 2015','2019.1': 'M pop 2019',\n",
    "                                         '1990.2' : 'F 1990','1995.2' : 'F 1995','2000.2' : 'F 2000',\n",
    "                                         '2005.2':'F 2005','2010.2' : 'F 2010','2015.2' : 'F pop 2015','2019.2': 'F pop 2019'})"
   ]
  },
  {
   "cell_type": "code",
   "execution_count": null,
   "id": "6a87edf4",
   "metadata": {
    "scrolled": true
   },
   "outputs": [],
   "source": [
    "country_pop"
   ]
  },
  {
   "cell_type": "code",
   "execution_count": null,
   "id": "f04a012a",
   "metadata": {
    "scrolled": true
   },
   "outputs": [],
   "source": [
    "country_pop.loc[country_pop['M/F pop 2015'].idxmax()]"
   ]
  },
  {
   "cell_type": "code",
   "execution_count": null,
   "id": "19b17160",
   "metadata": {},
   "outputs": [],
   "source": [
    "# multiplying each column pop by 1000 coz the pop is in million.\n",
    "\n",
    "country_pop['M/F pop 2015']=1000 * country_pop['M/F pop 2015']"
   ]
  },
  {
   "cell_type": "code",
   "execution_count": null,
   "id": "369d1aad",
   "metadata": {},
   "outputs": [],
   "source": [
    "country_pop['M/F pop 2019']=1000 * country_pop['M/F pop 2019']"
   ]
  },
  {
   "cell_type": "code",
   "execution_count": null,
   "id": "c802aa3e",
   "metadata": {},
   "outputs": [],
   "source": [
    "country_pop['M pop 2015']=1000* country_pop['M pop 2015']"
   ]
  },
  {
   "cell_type": "code",
   "execution_count": null,
   "id": "ef22950d",
   "metadata": {},
   "outputs": [],
   "source": [
    "country_pop['M pop 2019']=1000 *country_pop['M pop 2019']"
   ]
  },
  {
   "cell_type": "code",
   "execution_count": null,
   "id": "7bc29eee",
   "metadata": {},
   "outputs": [],
   "source": [
    "country_pop['F pop 2015']=1000*country_pop['F pop 2015']"
   ]
  },
  {
   "cell_type": "code",
   "execution_count": null,
   "id": "a049dca9",
   "metadata": {},
   "outputs": [],
   "source": [
    "country_pop['F pop 2019']=1000*country_pop['F pop 2019']"
   ]
  },
  {
   "cell_type": "code",
   "execution_count": null,
   "id": "34821f8c",
   "metadata": {
    "scrolled": true
   },
   "outputs": [],
   "source": [
    "country_pop=country_pop[['Sort order','Country','M/F pop 2015', 'M/F pop 2019','M pop 2015', 'M pop 2019','F pop 2015', 'F pop 2019' ]]"
   ]
  },
  {
   "cell_type": "code",
   "execution_count": null,
   "id": "cc764067",
   "metadata": {
    "scrolled": true
   },
   "outputs": [],
   "source": [
    "country_pop=country_pop.dropna()"
   ]
  },
  {
   "cell_type": "code",
   "execution_count": null,
   "id": "31d16bfd",
   "metadata": {},
   "outputs": [],
   "source": [
    "country_pop.head()"
   ]
  },
  {
   "cell_type": "code",
   "execution_count": null,
   "id": "909a4914",
   "metadata": {},
   "outputs": [],
   "source": [
    "#importing statistic risk analysis csv.\n",
    "sra=pd.read_csv(\"../Data/sra_2021.csv\")"
   ]
  },
  {
   "cell_type": "code",
   "execution_count": null,
   "id": "db283f77",
   "metadata": {},
   "outputs": [],
   "source": [
    "sra\n"
   ]
  },
  {
   "cell_type": "code",
   "execution_count": null,
   "id": "99bfc8e0",
   "metadata": {},
   "outputs": [],
   "source": [
    "# Keeping the columns i want and saving it to another df.\n",
    "mass_killing_sra=sra[['risk_in_2021_22country', 'ISO3', 'riskrank', '1 in X chance', 'anymk.ongoing', 'anymk.ever', 'imr.sqrt', \n",
    "     'gdppcgrowth.combined', 'battledeaths.ln', 'religiousfreedom']]"
   ]
  },
  {
   "cell_type": "code",
   "execution_count": null,
   "id": "c9db3957",
   "metadata": {},
   "outputs": [],
   "source": [
    "mass_killing_sra"
   ]
  },
  {
   "cell_type": "code",
   "execution_count": null,
   "id": "123e26c4",
   "metadata": {},
   "outputs": [],
   "source": [
    "# the battledeaths.ln column needs to be converted because Battle-related deaths are in log \n",
    "#(log e*  of battle related deaths plus 1) \n",
    "round(-1+np.e**mass_killing_sra['battledeaths.ln'])"
   ]
  },
  {
   "cell_type": "code",
   "execution_count": null,
   "id": "c17765dc",
   "metadata": {},
   "outputs": [],
   "source": [
    "#after converting the battlereaths to the actual number i assigned the answer to a new column.\n",
    "\n",
    "mass_killing_sra=mass_killing_sra.assign(battledeaths=round(-1+np.e**mass_killing_sra['battledeaths.ln']))"
   ]
  },
  {
   "cell_type": "code",
   "execution_count": null,
   "id": "ca4728d7",
   "metadata": {},
   "outputs": [],
   "source": [
    "mass_killing_sra"
   ]
  },
  {
   "cell_type": "code",
   "execution_count": null,
   "id": "5241fb7a",
   "metadata": {},
   "outputs": [],
   "source": [
    "# dividing all the values in ['1 in X chance'] to get the percentage chance of mass killing\n",
    "round(1/mass_killing_sra['1 in X chance'], 4)"
   ]
  },
  {
   "cell_type": "code",
   "execution_count": null,
   "id": "2de8be10",
   "metadata": {},
   "outputs": [],
   "source": [
    "# dividing all the values in ['1 in X chance'] to get the percentage chance of mass killing and assigning it in a new column\n",
    "#and saving it back to the df..\n",
    "\n",
    "mass_killing_sra=mass_killing_sra.assign(percent_chance_of_mass_killing=round(1/mass_killing_sra['1 in X chance'], 4))"
   ]
  },
  {
   "cell_type": "code",
   "execution_count": null,
   "id": "a4fca5b7",
   "metadata": {
    "scrolled": true
   },
   "outputs": [],
   "source": [
    "mass_killing_sra"
   ]
  },
  {
   "cell_type": "code",
   "execution_count": null,
   "id": "4ae0383c",
   "metadata": {},
   "outputs": [],
   "source": [
    "round(mass_killing_sra['imr.sqrt']**2)"
   ]
  },
  {
   "cell_type": "code",
   "execution_count": null,
   "id": "7db5a306",
   "metadata": {},
   "outputs": [],
   "source": [
    "# finding the infant mortality rate per 1000 and assigning it to a new column and saving it back to the df.\n",
    "\n",
    "mass_killing_sra=mass_killing_sra.assign(imr_per_1000=round(mass_killing_sra['imr.sqrt']**2))"
   ]
  },
  {
   "cell_type": "code",
   "execution_count": null,
   "id": "bcfdc3fc",
   "metadata": {},
   "outputs": [],
   "source": [
    "mass_killing_sra"
   ]
  },
  {
   "cell_type": "code",
   "execution_count": null,
   "id": "5760945e",
   "metadata": {},
   "outputs": [],
   "source": [
    "total_unemp_rate=pd.read_csv(\"../Data/unemployment-rate.csv\")"
   ]
  },
  {
   "cell_type": "code",
   "execution_count": null,
   "id": "0512401c",
   "metadata": {
    "scrolled": false
   },
   "outputs": [],
   "source": [
    "total_unemp_rate"
   ]
  },
  {
   "cell_type": "code",
   "execution_count": null,
   "id": "22111501",
   "metadata": {},
   "outputs": [],
   "source": [
    "# only keep 2 yrs (2015 and 2019) by using the .loc method/\n",
    "\n",
    "unemp_rate=total_unemp_rate.loc[(total_unemp_rate['Year']== 2015)|(total_unemp_rate['Year']== 2019) ]"
   ]
  },
  {
   "cell_type": "code",
   "execution_count": null,
   "id": "eb80e4a1",
   "metadata": {},
   "outputs": [],
   "source": [
    "unemp_rate"
   ]
  },
  {
   "cell_type": "code",
   "execution_count": null,
   "id": "31718272",
   "metadata": {},
   "outputs": [],
   "source": [
    "unemp_rate=unemp_rate.rename(columns={'Entity':'Country','Code': 'Country_code', 'Year': 'Year','Unemployment, total (% of total labor force) (modeled ILO estimate)': 'Unemployment %' })"
   ]
  },
  {
   "cell_type": "code",
   "execution_count": null,
   "id": "a7c77068",
   "metadata": {},
   "outputs": [],
   "source": [
    "unemp_rate.head()"
   ]
  },
  {
   "cell_type": "code",
   "execution_count": null,
   "id": "8b17baaa",
   "metadata": {},
   "outputs": [],
   "source": [
    "import requests"
   ]
  },
  {
   "cell_type": "code",
   "execution_count": null,
   "id": "2b750264",
   "metadata": {},
   "outputs": [],
   "source": [
    "URL = 'https://en.wikipedia.org/wiki/Global_Peace_Index'\n",
    "\n",
    "response = requests.get(URL)"
   ]
  },
  {
   "cell_type": "code",
   "execution_count": null,
   "id": "4bcbaa0b",
   "metadata": {},
   "outputs": [],
   "source": [
    "type(response)"
   ]
  },
  {
   "cell_type": "code",
   "execution_count": null,
   "id": "7b1a6af7",
   "metadata": {},
   "outputs": [],
   "source": [
    "response.status_code"
   ]
  },
  {
   "cell_type": "code",
   "execution_count": null,
   "id": "36690e6e",
   "metadata": {},
   "outputs": [],
   "source": [
    "response.text"
   ]
  },
  {
   "cell_type": "code",
   "execution_count": null,
   "id": "a979bcf9",
   "metadata": {},
   "outputs": [],
   "source": [
    "from bs4 import BeautifulSoup as BS"
   ]
  },
  {
   "cell_type": "code",
   "execution_count": null,
   "id": "68c36109",
   "metadata": {},
   "outputs": [],
   "source": [
    "soup = BS(response.text)"
   ]
  },
  {
   "cell_type": "code",
   "execution_count": null,
   "id": "47f02efd",
   "metadata": {},
   "outputs": [],
   "source": [
    "soup"
   ]
  },
  {
   "cell_type": "code",
   "execution_count": null,
   "id": "7a70fb4d",
   "metadata": {},
   "outputs": [],
   "source": [
    "print(soup.prettify())"
   ]
  },
  {
   "cell_type": "code",
   "execution_count": null,
   "id": "ef130fda",
   "metadata": {},
   "outputs": [],
   "source": [
    "soup.findAll('table')"
   ]
  },
  {
   "cell_type": "code",
   "execution_count": null,
   "id": "356632d1",
   "metadata": {},
   "outputs": [],
   "source": [
    "soup.find('table', class_ =  'sortable')"
   ]
  },
  {
   "cell_type": "code",
   "execution_count": null,
   "id": "b425a081",
   "metadata": {
    "scrolled": true
   },
   "outputs": [],
   "source": [
    "table_html = str(soup.find('table', class_= 'sortable'))\n",
    "\n",
    "from IPython.core.display import HTML\n",
    "\n",
    "HTML(table_html)"
   ]
  },
  {
   "cell_type": "code",
   "execution_count": null,
   "id": "86dab244",
   "metadata": {},
   "outputs": [],
   "source": [
    "gp2=pd.read_html(str(table_html))[0]"
   ]
  },
  {
   "cell_type": "code",
   "execution_count": null,
   "id": "9df2078f",
   "metadata": {},
   "outputs": [],
   "source": [
    "gp2=gp2.rename(columns={'Country':'Country','2023[7]': '2023', '2022[8]':'2022', '2021[9]': '2021', '2020[10]': '2020' })"
   ]
  },
  {
   "cell_type": "code",
   "execution_count": null,
   "id": "b8baf214",
   "metadata": {},
   "outputs": [],
   "source": [
    "gp2"
   ]
  },
  {
   "cell_type": "markdown",
   "id": "10c895f6",
   "metadata": {},
   "source": [
    "#tried to work with Chris but didnt work.\n",
    "header=pd.MultiIndex.from_product([['Country','2015[13]', '2015[13]','2019[9]','2019[9]'],\n",
    "                                     ['Country','Rank','Score','Rank','Score']],\n",
    "                                    names=['Country','2015','2019'])"
   ]
  },
  {
   "cell_type": "code",
   "execution_count": null,
   "id": "530dcda3",
   "metadata": {},
   "outputs": [],
   "source": [
    "gp2"
   ]
  },
  {
   "cell_type": "code",
   "execution_count": null,
   "id": "f2a017db",
   "metadata": {},
   "outputs": [],
   "source": []
  },
  {
   "cell_type": "code",
   "execution_count": null,
   "id": "8551cecd",
   "metadata": {
    "scrolled": false
   },
   "outputs": [],
   "source": [
    "gp2=gp2.droplevel(0,axis=1)"
   ]
  },
  {
   "cell_type": "code",
   "execution_count": null,
   "id": "139153e8",
   "metadata": {
    "scrolled": true
   },
   "outputs": [],
   "source": [
    "#deleting Score column\n",
    "del gp2['Score']\n",
    "gp2.head(2)\n"
   ]
  },
  {
   "cell_type": "code",
   "execution_count": null,
   "id": "e669395c",
   "metadata": {},
   "outputs": [],
   "source": [
    "gp2.columns"
   ]
  },
  {
   "cell_type": "code",
   "execution_count": null,
   "id": "8077c9c1",
   "metadata": {},
   "outputs": [],
   "source": [
    "gp2.columns=['country', '2023','a', '2022','b', '2021','c', '2020', 'd']\n",
    "gp2"
   ]
  },
  {
   "cell_type": "code",
   "execution_count": null,
   "id": "722a5b12",
   "metadata": {
    "scrolled": true
   },
   "outputs": [],
   "source": [
    "\n",
    "gp2=gp2.drop(columns=['a','b','c','d'])"
   ]
  },
  {
   "cell_type": "code",
   "execution_count": null,
   "id": "5bc39c54",
   "metadata": {},
   "outputs": [],
   "source": [
    "print(gp2.shape)"
   ]
  },
  {
   "cell_type": "markdown",
   "id": "60897255",
   "metadata": {},
   "source": [
    "#another way of doing this is migrant_by_origin_and_dest=pd.read_excel(\"../Data/UN_MigrantStockByOriginAndDestination_2019.xlsx\", sheet_name= 'Table 1',\n",
    "              header=15, skiprows=[i for i in range (16,39)])"
   ]
  },
  {
   "cell_type": "code",
   "execution_count": null,
   "id": "39816d8b",
   "metadata": {},
   "outputs": [],
   "source": [
    "# removing the rows i dont want by index# in excel spreadsheet- using range and selecting the row above and the row\n",
    "#that i want to remove because its going to remove the last one and keep the 1st index row.\n",
    "    \n",
    "migrant_by_origin_and_dest=pd.read_excel(\"../Data/UN_MigrantStockByOriginAndDestination_2019.xlsx\", sheet_name= 'Table 1',\n",
    "              header=15, skiprows=[*range(16, 1454), *range(1474, 1475), *range(1484, 1485), *range(1490,1491),*range(1508,1510),\n",
    "                                  *range(1517,1518),*range(1536,1538),*range(1543,1544),*range(1553,1555),*range(1562,1563),\n",
    "                                   *range(1574,1576),*range(1602,1603),*range(1611,1612),*range(1626,1628),*range(1630,1631),\n",
    "                                  *range(1636,1637),*range(1644,1645),*range(1654,1657),*range(1667,1668),*range(1681,1682),\n",
    "                                  *range(1698,1699),*range(1708,1709),*range(1714,1737),*range(1757,1758),*range(1767,1768),\n",
    "                                  *range(1773,1774),*range(1791,1793),*range(1800,1801),*range(1819,1821),*range(1826,1827),\n",
    "                                   *range(1836,1838),*range(1845,1846),*range(1857,1859),*range(1885,1886),*range(1894,1895),\n",
    "                                   *range(1909,1911),*range(1913,1914),*range(1919,1920),*range(1927,1928),*range(1937,1940),\n",
    "                                   *range(1950,1951),*range(1964,1965),*range(1981,1982),*range(1991,1992)]\n",
    ")\n",
    "\n"
   ]
  },
  {
   "cell_type": "markdown",
   "id": "af7d302f",
   "metadata": {},
   "source": [
    "migrant_by_orig=pd.read_excel(\"../Data/UN_MigrantStockByOriginAndDestination_2019.xlsx\", sheet_name= 'Table 1',\n",
    "              header=15, skiprows=[i for i in range (40,1453)])"
   ]
  },
  {
   "cell_type": "code",
   "execution_count": null,
   "id": "13f9ff05",
   "metadata": {
    "scrolled": true
   },
   "outputs": [],
   "source": [
    "migrant_by_orig=migrant_by_origin_and_dest.loc[(migrant_by_origin_and_dest['Unnamed: 0']==2015)|(migrant_by_origin_and_dest['Unnamed: 0']==2019)]"
   ]
  },
  {
   "cell_type": "code",
   "execution_count": null,
   "id": "d0626e96",
   "metadata": {
    "scrolled": true
   },
   "outputs": [],
   "source": [
    "migrant_by_orig=migrant_by_orig.rename(columns = {'Unnamed: 0':'Year','Unnamed: 1' :'Sort order',\n",
    "                                          'Unnamed: 2' : 'Destination Country','Unnamed: 3' :'Notes',\n",
    "                                  'Unnamed: 4' : 'Code', 'Unnamed: 5':'Type of data'})"
   ]
  },
  {
   "cell_type": "code",
   "execution_count": null,
   "id": "82689322",
   "metadata": {},
   "outputs": [],
   "source": [
    "#dropping the columns i dont need ) migrant_by_orig.drop(['Notes', 'Code', 'Type of data', 'Other South', 'Other North'])\n",
    "migrant_by_orig= migrant_by_orig.loc[:, ~migrant_by_orig.columns.isin(['Total', 'Notes', 'Code', 'Type of data', 'Other South', 'Other North'])]"
   ]
  },
  {
   "cell_type": "code",
   "execution_count": null,
   "id": "d9fa5daa",
   "metadata": {
    "scrolled": true
   },
   "outputs": [],
   "source": [
    "migrant_by_orig"
   ]
  },
  {
   "cell_type": "code",
   "execution_count": null,
   "id": "ecf027c2",
   "metadata": {
    "scrolled": true
   },
   "outputs": [],
   "source": [
    "# replacing the NaN values with 0\n",
    "\n",
    "migrant_by_orig.fillna(0)"
   ]
  },
  {
   "cell_type": "code",
   "execution_count": null,
   "id": "ed8fbc27",
   "metadata": {},
   "outputs": [],
   "source": [
    "# compiling the major country column into a set and then into a list\n",
    "country_list=list(set(migrant_by_orig['Destination Country']))"
   ]
  },
  {
   "cell_type": "code",
   "execution_count": null,
   "id": "142d012c",
   "metadata": {},
   "outputs": [],
   "source": [
    "country_list"
   ]
  },
  {
   "cell_type": "code",
   "execution_count": null,
   "id": "b7f84669",
   "metadata": {
    "scrolled": false
   },
   "outputs": [],
   "source": [
    "# using melt function to change the countries showing across in a row and put then in a column and saving it to a df\n",
    "# \"melt function is used to change the DF format from wide to long\"\n",
    "\n",
    "country_by_dest=migrant_by_orig.melt(id_vars=['Year', 'Destination Country'], value_vars= country_list)"
   ]
  },
  {
   "cell_type": "code",
   "execution_count": null,
   "id": "ad086bef",
   "metadata": {},
   "outputs": [],
   "source": [
    "country_by_dest\n"
   ]
  },
  {
   "cell_type": "code",
   "execution_count": null,
   "id": "45c40456",
   "metadata": {},
   "outputs": [],
   "source": [
    "# renaming the variable and value columns\n",
    "\n",
    "country_by_dest=country_by_dest.rename(columns = {'variable':'Departure Country','value' : 'Total Emigrants'})"
   ]
  },
  {
   "cell_type": "code",
   "execution_count": null,
   "id": "e63a3f4b",
   "metadata": {},
   "outputs": [],
   "source": [
    "country_pop.head(1)"
   ]
  },
  {
   "cell_type": "code",
   "execution_count": null,
   "id": "459bd72b",
   "metadata": {},
   "outputs": [],
   "source": [
    "# instead of dropping all the NaNs, selecting values that are not NaN from TOtal numb of immig column.\n",
    "\n",
    "country_by_dest=country_by_dest[country_by_dest['Total Emigrants'].notna()]"
   ]
  },
  {
   "cell_type": "code",
   "execution_count": null,
   "id": "4a3f48c0",
   "metadata": {
    "scrolled": false
   },
   "outputs": [],
   "source": [
    "country_by_dest"
   ]
  },
  {
   "cell_type": "markdown",
   "id": "00688d18",
   "metadata": {},
   "source": [
    "# saving each df to csv so i can open them in Tableau"
   ]
  },
  {
   "cell_type": "code",
   "execution_count": null,
   "id": "b13b19d6",
   "metadata": {},
   "outputs": [],
   "source": [
    "#migrant_by_orig.to_csv('../Data/migrant_by_orig.csv')"
   ]
  },
  {
   "cell_type": "code",
   "execution_count": null,
   "id": "66c18e50",
   "metadata": {},
   "outputs": [],
   "source": [
    "#img_stk_2yrs.to_csv('../Data/img_stk_2yrs.csv')"
   ]
  },
  {
   "cell_type": "code",
   "execution_count": null,
   "id": "28fb64bf",
   "metadata": {},
   "outputs": [],
   "source": [
    "#country_pop.to_csv('../Data/country_pop.csv')"
   ]
  },
  {
   "cell_type": "code",
   "execution_count": null,
   "id": "b051b2ed",
   "metadata": {},
   "outputs": [],
   "source": [
    "#mass_killing_sra.to_csv('../Data/mass_killing_sra.csv')"
   ]
  },
  {
   "cell_type": "code",
   "execution_count": null,
   "id": "bc3e2e11",
   "metadata": {},
   "outputs": [],
   "source": [
    "#total_unemp_rate.to_csv('../Data/total_unemp_rate.csv')"
   ]
  },
  {
   "cell_type": "code",
   "execution_count": null,
   "id": "1a68082a",
   "metadata": {},
   "outputs": [],
   "source": [
    "#gp2.to_csv('../Data/gp2.csv')"
   ]
  },
  {
   "cell_type": "code",
   "execution_count": null,
   "id": "040bc5cb",
   "metadata": {},
   "outputs": [],
   "source": [
    "#country_by_dest.to_csv('../Data/country_by_dest.csv')"
   ]
  },
  {
   "cell_type": "code",
   "execution_count": null,
   "id": "f4dfbab0",
   "metadata": {},
   "outputs": [],
   "source": []
  },
  {
   "cell_type": "code",
   "execution_count": null,
   "id": "834b02e3",
   "metadata": {
    "scrolled": true
   },
   "outputs": [],
   "source": [
    "country_by_dest"
   ]
  },
  {
   "cell_type": "code",
   "execution_count": null,
   "id": "3f0341e1",
   "metadata": {},
   "outputs": [],
   "source": [
    "country_by_dest= country_by_dest[['Year','Departure Country','Total Emigrants', 'Destination Country']]\n",
    "country_by_dest.head(1)"
   ]
  },
  {
   "cell_type": "code",
   "execution_count": null,
   "id": "27feaa81",
   "metadata": {},
   "outputs": [],
   "source": [
    "dep_country_emigrants=country_by_dest.groupby(['Year', 'Departure Country'])['Total Emigrants'].sum().reset_index()\n",
    "dep_country_emigrants.head(2)"
   ]
  },
  {
   "cell_type": "code",
   "execution_count": null,
   "id": "bd26a544",
   "metadata": {},
   "outputs": [],
   "source": [
    "dest_country_immigrants=country_by_dest.groupby(['Year', 'Destination Country'])['Total Emigrants'].sum().reset_index()\n",
    "dest_country_immigrants.head(2)"
   ]
  },
  {
   "cell_type": "code",
   "execution_count": null,
   "id": "6089e020",
   "metadata": {},
   "outputs": [],
   "source": [
    "dest_country_immigrants=dest_country_immigrants.rename(columns={'Year':'Year', 'Destination Country':'Destination Country','Total Emigrants':'Total Immigrants'})"
   ]
  },
  {
   "cell_type": "code",
   "execution_count": null,
   "id": "dff2d64c",
   "metadata": {},
   "outputs": [],
   "source": [
    "dest_country_immigrants.head()"
   ]
  },
  {
   "cell_type": "code",
   "execution_count": null,
   "id": "2c941395",
   "metadata": {
    "scrolled": true
   },
   "outputs": [],
   "source": [
    "country_pop.head(2)"
   ]
  },
  {
   "cell_type": "code",
   "execution_count": null,
   "id": "77764d45",
   "metadata": {},
   "outputs": [],
   "source": [
    "#merged_pop_dest['2019_immigrants_per_100k']=(merged_pop_dest['Total number of immigrants']/merged_pop_dest['M/F pop 2019'])*100000\n",
    "\n",
    "merge_df=dep_country_emigrants.merge(country_pop, left_on =['Departure Country'], right_on =['Country'] )\n",
    "merge_df.head()"
   ]
  },
  {
   "cell_type": "code",
   "execution_count": null,
   "id": "fbfec7df",
   "metadata": {
    "scrolled": true
   },
   "outputs": [],
   "source": [
    "dep_country_emigrants.loc[dep_country_emigrants['Total Emigrants'].idxmax()]"
   ]
  },
  {
   "cell_type": "code",
   "execution_count": null,
   "id": "00766699",
   "metadata": {},
   "outputs": [],
   "source": [
    "dep_country_emigrants.head(2)"
   ]
  },
  {
   "cell_type": "code",
   "execution_count": null,
   "id": "73d62317",
   "metadata": {},
   "outputs": [],
   "source": [
    "unemp_rate.head(2)"
   ]
  },
  {
   "cell_type": "code",
   "execution_count": null,
   "id": "d7bb96a2",
   "metadata": {},
   "outputs": [],
   "source": [
    "dep_ctry_unemp_rate=dep_country_emigrants.merge(unemp_rate, left_on = ['Year', 'Departure Country'], right_on = ['Year', 'Country'])"
   ]
  },
  {
   "cell_type": "code",
   "execution_count": null,
   "id": "a8a1f917",
   "metadata": {
    "scrolled": true
   },
   "outputs": [],
   "source": [
    "dep_ctry_unemp_rate.head()"
   ]
  },
  {
   "cell_type": "code",
   "execution_count": null,
   "id": "789ed6a0",
   "metadata": {},
   "outputs": [],
   "source": []
  },
  {
   "cell_type": "code",
   "execution_count": null,
   "id": "5d6501d4",
   "metadata": {
    "scrolled": true
   },
   "outputs": [],
   "source": [
    "gp2.head()"
   ]
  },
  {
   "cell_type": "code",
   "execution_count": null,
   "id": "a321bd0e",
   "metadata": {},
   "outputs": [],
   "source": [
    "#using .melt to move gp_rank2015 and 2019 to 1column so it can align when I join it with dep_ctry_unemp_rate df\n",
    "#since wiki changed their website for global peace again and now they only have 2020-2023 yrs I cant use the code below\n",
    "#glob_p=gp2.melt(value_vars=['gp_rank_2015','gp_rank_2019'], id_vars= 'country')\n",
    "#glob_p.head()#"
   ]
  },
  {
   "cell_type": "code",
   "execution_count": null,
   "id": "55676ff7",
   "metadata": {},
   "outputs": [],
   "source": [
    "# using .str to keep just 4 digit yr from variable column \n",
    "#glob_p.variable=glob_p.variable.str[-4:]"
   ]
  },
  {
   "cell_type": "code",
   "execution_count": null,
   "id": "bbad9140",
   "metadata": {
    "scrolled": true
   },
   "outputs": [],
   "source": [
    "#glob_p"
   ]
  },
  {
   "cell_type": "code",
   "execution_count": null,
   "id": "77c83e68",
   "metadata": {},
   "outputs": [],
   "source": [
    "#glob_p=glob_p.rename(columns ={'country':'country', 'variable': 'Year', 'value': 'gp_rank'})\n",
    "#glob_p.head(1)"
   ]
  },
  {
   "cell_type": "code",
   "execution_count": null,
   "id": "29acf0d2",
   "metadata": {},
   "outputs": [],
   "source": [
    "#dep_country_emigrants.head(2)"
   ]
  },
  {
   "cell_type": "code",
   "execution_count": null,
   "id": "b615e14c",
   "metadata": {
    "scrolled": false
   },
   "outputs": [],
   "source": [
    "#gp_unemp_dept_ctry=dep_ctry_unemp_rate.merge(gp2, left_on = ['Departure Country'], right_on = ['country'])\n",
    "#gp_unemp_dept_ctry.head()"
   ]
  },
  {
   "cell_type": "code",
   "execution_count": null,
   "id": "989575bd",
   "metadata": {},
   "outputs": [],
   "source": [
    "#gp_unemp_dept_ctry=gp_unemp_dept_ctry.drop(['Country','country'],axis=1)\n"
   ]
  },
  {
   "cell_type": "code",
   "execution_count": null,
   "id": "7ff56f04",
   "metadata": {},
   "outputs": [],
   "source": [
    "#gp_unemp_dept_ctry.head(2)"
   ]
  },
  {
   "cell_type": "code",
   "execution_count": null,
   "id": "b43403bc",
   "metadata": {
    "scrolled": true
   },
   "outputs": [],
   "source": [
    "#dep_ctry_unemp_rate.dtypes"
   ]
  },
  {
   "cell_type": "code",
   "execution_count": null,
   "id": "b2086f60",
   "metadata": {},
   "outputs": [],
   "source": [
    "#glob_p.dtypes"
   ]
  },
  {
   "cell_type": "code",
   "execution_count": null,
   "id": "b111c0f2",
   "metadata": {},
   "outputs": [],
   "source": [
    "#this df has year column as an int and glob_p df has Year as an object, in order to do merge both columns have to be same dtype\n",
    "\n",
    "#dep_ctry_unemp_rate['Year']=dep_ctry_unemp_rate['Year'].apply(str)"
   ]
  },
  {
   "cell_type": "code",
   "execution_count": null,
   "id": "776113f1",
   "metadata": {
    "scrolled": true
   },
   "outputs": [],
   "source": [
    "#gp_unemp_dept_ctry1=dep_ctry_unemp_rate.merge(glob_p, left_on = ['Departure Country','Year'], right_on = ['country', 'Year'])"
   ]
  },
  {
   "cell_type": "code",
   "execution_count": null,
   "id": "0197cbc0",
   "metadata": {
    "scrolled": false
   },
   "outputs": [],
   "source": [
    "#gp_unemp_dept_ctry1"
   ]
  },
  {
   "cell_type": "code",
   "execution_count": null,
   "id": "71d24d19",
   "metadata": {},
   "outputs": [],
   "source": [
    "#gp_unemp_dept_ctry1=gp_unemp_dept_ctry1.drop(['Country','country'],axis=1)"
   ]
  },
  {
   "cell_type": "code",
   "execution_count": null,
   "id": "2ec09db7",
   "metadata": {
    "scrolled": true
   },
   "outputs": [],
   "source": [
    "#FINAL TABLE WITH GLOBAL PEACE IND, UNEMP %, DEPT DEPT COUNTRY, TOTLA EMIGRANT- CONVERT TO CSV\n",
    "#gp_unemp_dept_ctry1.head()"
   ]
  },
  {
   "cell_type": "code",
   "execution_count": null,
   "id": "8eba0893",
   "metadata": {},
   "outputs": [],
   "source": []
  },
  {
   "cell_type": "code",
   "execution_count": null,
   "id": "4b83a2c3",
   "metadata": {},
   "outputs": [],
   "source": [
    "mass_killing_sra.head(2)"
   ]
  },
  {
   "cell_type": "code",
   "execution_count": null,
   "id": "d4f513dc",
   "metadata": {},
   "outputs": [],
   "source": [
    "gp2.head(2)"
   ]
  },
  {
   "cell_type": "code",
   "execution_count": null,
   "id": "5f5ebf22",
   "metadata": {
    "scrolled": true
   },
   "outputs": [],
   "source": [
    "# MASS KILLING WITH GLOBAL PEACE - CONVERT TO CSV\n",
    "mk_glob_p=mass_killing_sra.merge(gp2, left_on = ['risk_in_2021_22country'], right_on = ['country'])\n",
    "mk_glob_p.head()"
   ]
  },
  {
   "cell_type": "code",
   "execution_count": null,
   "id": "b3d1a1a7",
   "metadata": {},
   "outputs": [],
   "source": []
  },
  {
   "cell_type": "code",
   "execution_count": null,
   "id": "0c021d55",
   "metadata": {},
   "outputs": [],
   "source": [
    "# COUNTRY BY DEST SHOWING EMIGRANTS LEAVING COUNTRY AND DESTINATION COUTRY- CONV TO CSV\n",
    "\n",
    "country_by_dest"
   ]
  },
  {
   "cell_type": "code",
   "execution_count": null,
   "id": "ecb03645",
   "metadata": {},
   "outputs": [],
   "source": []
  },
  {
   "cell_type": "code",
   "execution_count": null,
   "id": "989a6c34",
   "metadata": {},
   "outputs": [],
   "source": [
    "#syntax to drop rows of a column based on criteria------df.drop(df[df['column_name']=='value'].index)"
   ]
  },
  {
   "cell_type": "markdown",
   "id": "f185740a",
   "metadata": {},
   "source": [
    "C:\\Users\\ksobi\\AppData\\Local\\Temp\\TableauTemp\\1661843747\\Data\\created CSVs"
   ]
  },
  {
   "cell_type": "code",
   "execution_count": null,
   "id": "18cf9ac2",
   "metadata": {},
   "outputs": [],
   "source": [
    "#gp_unemp_dept_ctry"
   ]
  },
  {
   "cell_type": "code",
   "execution_count": null,
   "id": "1d1ee9ef",
   "metadata": {},
   "outputs": [],
   "source": [
    "country_pop.head(2)"
   ]
  },
  {
   "cell_type": "code",
   "execution_count": null,
   "id": "f41f5919",
   "metadata": {
    "scrolled": true
   },
   "outputs": [],
   "source": [
    "#this forloop is normalizing the population column for both m/f column and addind a new column. it gives error when i run it\n",
    "# but it works. \n",
    "\n",
    "pop_columns=['M/F pop 2015', 'M/F pop 2019']\n",
    "for col in pop_columns:\n",
    "    new_col=col + ' in million'\n",
    "    country_pop[new_col] = (country_pop[col]/1000000).round(2)"
   ]
  },
  {
   "cell_type": "code",
   "execution_count": null,
   "id": "39c9b140",
   "metadata": {},
   "outputs": [],
   "source": [
    "country_pop.info()"
   ]
  },
  {
   "cell_type": "code",
   "execution_count": null,
   "id": "a2850769",
   "metadata": {
    "scrolled": false
   },
   "outputs": [],
   "source": [
    "country_pop.head()"
   ]
  },
  {
   "cell_type": "code",
   "execution_count": null,
   "id": "fcf283b1",
   "metadata": {},
   "outputs": [],
   "source": [
    "#country_pop=country_pop.drop(columns=['M pop 2015','M pop 2019', 'F pop 2015', 'F pop 2019'])"
   ]
  },
  {
   "cell_type": "code",
   "execution_count": null,
   "id": "b1662440",
   "metadata": {},
   "outputs": [],
   "source": [
    "country_pop_total=country_pop.drop(['Sort order','M pop 2015', 'M pop 2019','F pop 2015','F pop 2019'], axis=1)"
   ]
  },
  {
   "cell_type": "code",
   "execution_count": null,
   "id": "e379193a",
   "metadata": {},
   "outputs": [],
   "source": [
    "# TABLE SHOWING COUNTRY POP AND COUNTRY POP/100K- CONV TO CSV\n",
    "country_pop_total"
   ]
  },
  {
   "cell_type": "code",
   "execution_count": null,
   "id": "7e6dd049",
   "metadata": {
    "scrolled": true
   },
   "outputs": [],
   "source": [
    "country_by_dest.head(3)"
   ]
  },
  {
   "cell_type": "code",
   "execution_count": null,
   "id": "cac27677",
   "metadata": {},
   "outputs": [],
   "source": [
    "mk_glob_p.head(3)"
   ]
  },
  {
   "cell_type": "markdown",
   "id": "1664bfe7",
   "metadata": {},
   "source": [
    "commenting out the csv since i've created them so when i run the notebook the csvs dont get created again"
   ]
  },
  {
   "cell_type": "code",
   "execution_count": null,
   "id": "13e146cb",
   "metadata": {},
   "outputs": [],
   "source": [
    "countries=pd.read_csv('../data/countries.csv')"
   ]
  },
  {
   "cell_type": "code",
   "execution_count": null,
   "id": "2765d361",
   "metadata": {},
   "outputs": [],
   "source": [
    "countries=countries[['latitude', 'longitude','name']]"
   ]
  },
  {
   "cell_type": "code",
   "execution_count": null,
   "id": "5884664f",
   "metadata": {},
   "outputs": [],
   "source": [
    "countries.columns=['lat', 'lng', 'country']"
   ]
  },
  {
   "cell_type": "code",
   "execution_count": null,
   "id": "78cfd444",
   "metadata": {},
   "outputs": [],
   "source": [
    "countries=countries[['country', 'lat', 'lng']]"
   ]
  },
  {
   "cell_type": "code",
   "execution_count": null,
   "id": "6bcd32e2",
   "metadata": {
    "scrolled": false
   },
   "outputs": [],
   "source": [
    "countries['country']=countries.country.replace({'United States': 'United States of America'})"
   ]
  },
  {
   "cell_type": "code",
   "execution_count": null,
   "id": "036f8814",
   "metadata": {},
   "outputs": [],
   "source": [
    "countries['country'].tolist()"
   ]
  },
  {
   "cell_type": "code",
   "execution_count": null,
   "id": "938c17de",
   "metadata": {},
   "outputs": [],
   "source": [
    "#countries.to_csv('../tableau_data/countries.csv')"
   ]
  },
  {
   "cell_type": "code",
   "execution_count": null,
   "id": "cae585e3",
   "metadata": {},
   "outputs": [],
   "source": [
    "#country_pop_total.to_csv('../tableau_data/country_pop_total.csv')"
   ]
  },
  {
   "cell_type": "code",
   "execution_count": null,
   "id": "6d9b958c",
   "metadata": {},
   "outputs": [],
   "source": [
    "#unemp_rate.to_csv('../tableau_data/unemp_rate.csv')"
   ]
  },
  {
   "cell_type": "code",
   "execution_count": null,
   "id": "97681b78",
   "metadata": {},
   "outputs": [],
   "source": [
    "#country_by_dest.to_csv('../tableau_data/country_by_dest.csv')"
   ]
  },
  {
   "cell_type": "code",
   "execution_count": null,
   "id": "6dbd0a31",
   "metadata": {},
   "outputs": [],
   "source": [
    "#mk_glob_p.to_csv('../tableau_data/mk_glob_p.csv')"
   ]
  },
  {
   "cell_type": "code",
   "execution_count": null,
   "id": "c5b6b624",
   "metadata": {},
   "outputs": [],
   "source": []
  },
  {
   "cell_type": "code",
   "execution_count": null,
   "id": "3e5e4852",
   "metadata": {},
   "outputs": [],
   "source": []
  }
 ],
 "metadata": {
  "kernelspec": {
   "display_name": "Python 3 (ipykernel)",
   "language": "python",
   "name": "python3"
  },
  "language_info": {
   "codemirror_mode": {
    "name": "ipython",
    "version": 3
   },
   "file_extension": ".py",
   "mimetype": "text/x-python",
   "name": "python",
   "nbconvert_exporter": "python",
   "pygments_lexer": "ipython3",
   "version": "3.9.13"
  }
 },
 "nbformat": 4,
 "nbformat_minor": 5
}
